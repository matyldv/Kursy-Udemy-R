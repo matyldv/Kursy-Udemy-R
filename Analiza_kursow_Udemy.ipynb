{
 "cells": [
  {
   "cell_type": "markdown",
   "metadata": {},
   "source": [
    "## Statystyka i Analiza danych\n"
   ]
  },
  {
   "cell_type": "markdown",
   "metadata": {},
   "source": [
    "## Analizowane dane\n",
    "\n",
    "Analizowany poniżej zbiór danych zawiera informację na temach kursów znajdujących się na platformie Udemy.\n",
    "\n",
    "Badaną cechą będzie średnia cena kursu."
   ]
  },
  {
   "cell_type": "code",
   "execution_count": null,
   "metadata": {},
   "outputs": [],
   "source": [
    "Dane <- read.csv(\"udemy_courses.csv\", sep=\",\")\n",
    "Dane"
   ]
  },
  {
   "cell_type": "markdown",
   "metadata": {},
   "source": [
    "## Podstawowa analiza eksploracyjna"
   ]
  },
  {
   "cell_type": "code",
   "execution_count": 6,
   "metadata": {},
   "outputs": [],
   "source": [
    "badane <- Dane$price"
   ]
  },
  {
   "cell_type": "code",
   "execution_count": 7,
   "metadata": {},
   "outputs": [
    {
     "data": {
      "text/plain": [
       "   Min. 1st Qu.  Median    Mean 3rd Qu.    Max. \n",
       "   0.00   20.00   45.00   66.05   95.00  200.00 "
      ]
     },
     "metadata": {},
     "output_type": "display_data"
    }
   ],
   "source": [
    "summary(badane)"
   ]
  },
  {
   "cell_type": "code",
   "execution_count": 55,
   "metadata": {},
   "outputs": [
    {
     "data": {
      "text/plain": [
       "dane_w_przedzialach\n",
       "(-0.2,40]   (40,80]  (80,120] (120,160] (160,200] \n",
       "     1793       827       407       172       479 "
      ]
     },
     "metadata": {},
     "output_type": "display_data"
    }
   ],
   "source": [
    "dane_w_przedzialach <- cut(badane, breaks=5)\n",
    "table(dane_w_przedzialach)"
   ]
  },
  {
   "cell_type": "code",
   "execution_count": 31,
   "metadata": {},
   "outputs": [
    {
     "data": {
      "image/png": "[encoded data removed]",
      "text/plain": [
       "Plot with title \"Kwota kursów Udemy\""
      ]
     },
     "metadata": {
      "image/png": {
       "height": 420,
       "width": 420
      },
      "text/plain": {
       "height": 420,
       "width": 420
      }
     },
     "output_type": "display_data"
    }
   ],
   "source": [
    "histogram <- hist(badane, main = 'Kwota kursów Udemy', col = 'grey', xlab = 'Cena', ylab = 'Ilość', ylim = c(0,1200))\n",
    "text(histogram$mids,histogram$counts,labels=histogram$counts, adj=c(0.5, -0.5))"
   ]
  },
  {
   "cell_type": "markdown",
   "metadata": {},
   "source": [
    "## Statystyki opisowe"
   ]
  },
  {
   "cell_type": "code",
   "execution_count": 53,
   "metadata": {},
   "outputs": [
    {
     "name": "stdout",
     "output_type": "stream",
     "text": [
      "Ilość danych = 3678 \n",
      "Średnia = 66.04948 \n",
      "Mediana = 45 \n",
      "Dominanta = 20\n",
      "Odchylenie standardowe = 61.00576 \n",
      "Skośność 1.158196"
     ]
    }
   ],
   "source": [
    "skewness <- function(dane){\n",
    "    c <- 0\n",
    "    for ( i in 1:length(dane) ){\n",
    "       c <- c + (dane[i]-mean(dane))**3\n",
    "       }\n",
    "    c <- c/length(dane)\n",
    "    wynik <- c/(sd(dane)**3)\n",
    "}\n",
    "dominanta <- function(v) {\n",
    "   uniqv <- unique(v)\n",
    "   uniqv[which.max(tabulate(match(v, uniqv)))]\n",
    "}\n",
    "\n",
    "\n",
    "cat(\"Ilość danych =\",length(badane),\"\\nŚrednia =\",mean(badane),\"\\nMediana =\",median(badane),\"\\nDominanta =\",dominanta(badane))\n",
    "cat(\"\\nOdchylenie standardowe =\",sd(badane),\"\\nSkośność\", skewness(badane))\n",
    "\n"
   ]
  },
  {
   "cell_type": "markdown",
   "metadata": {},
   "source": [
    "### Uzasadnienie i komentarz"
   ]
  },
  {
   "cell_type": "markdown",
   "metadata": {},
   "source": [
    "- Dostępnych jest 3678 kursów\n",
    "- Średnia cena wszystkich kursów to 66$\n",
    "\n",
    "- Wartość środkową zbioru to 45.\n",
    "- Poszczególne ceny kursów różnią się średnio o 61 od średniej ceny wszystkich kursów.\n",
    "- Prawoskośność - więcej kursów posiada cenę poniżej średniej\n",
    "- Dominata wskazuje na to, że najcześciej występują kursy za 20$\n"
   ]
  },
  {
   "cell_type": "markdown",
   "metadata": {},
   "source": [
    "## Testowanie hipotezy\n",
    "Średnia cena kursu to 66$, testując 45 elementową próbę sprawdzimy czy średnia cena kursu jest niższa"
   ]
  },
  {
   "cell_type": "code",
   "execution_count": 104,
   "metadata": {},
   "outputs": [],
   "source": [
    "dane_test <- sample(badane,45)"
   ]
  },
  {
   "cell_type": "code",
   "execution_count": 113,
   "metadata": {},
   "outputs": [
    {
     "name": "stdout",
     "output_type": "stream",
     "text": [
      "n = 45 \n",
      "Średnia = 63.88889 \n",
      "Odchylenie standardowe = 59.48538 \n",
      "Poziom istostności 0.05 \n",
      "Wybieramy test Z\n",
      "H_0: µ = 66 \n",
      "H_1: µ < 66 \n",
      "Wartość krytyczna 1.645 \n",
      "Statystyka -0.2380713 \n",
      "Obszar krytyczny: ( -inf,  -1.645 )\n",
      "Decyzja: Brak podstaw do odrzucenie H_0. \n",
      "Błąd drugiego rodzaju"
     ]
    }
   ],
   "source": [
    "srednia <-mean(dane_test)\n",
    "odchylenie_stand = sd(dane_test)\n",
    "n <- 45\n",
    "h_0 <- 66\n",
    "h_1 <- \"< 66\"\n",
    "srednia <- mean(dane_test) \n",
    "alfa <- 0.05\n",
    "\n",
    "cat(\"n =\",n,\"\\nŚrednia =\",srednia,\"\\nOdchylenie standardowe =\",odchylenie_stand,\"\\nPoziom istostności\",alfa,\"\\n\")\n",
    "cat(\"Wybieramy test Z\\n\")\n",
    "cat (\"H_0: μ =\", h_0, \"\\n\")\n",
    "cat(\"H_1: μ\", h_1, \"\\n\")\n",
    "z_kr <- round(qnorm(1 - alfa), 3)\n",
    "cat(\"Wartość krytyczna\", z_kr, \"\\n\")\n",
    "statystyka <- (srednia - h_0)*sqrt(n)/odchylenie_stand\n",
    "cat(\"Statystyka\", statystyka, \"\\n\")\n",
    "cat(\"Obszar krytyczny: ( -inf, \",-z_kr,\")\\n\")\n",
    "cat(\"Decyzja: Brak podstaw do odrzucenie H_0. \\nBłąd drugiego rodzaju\")"
   ]
  }
 ],
 "metadata": {
  "kernelspec": {
   "display_name": "R",
   "language": "R",
   "name": "ir"
  },
  "language_info": {
   "codemirror_mode": "r",
   "file_extension": ".r",
   "mimetype": "text/x-r-source",
   "name": "R",
   "pygments_lexer": "r",
   "version": "3.6.3"
  }
 },
 "nbformat": 4,
 "nbformat_minor": 4
}
